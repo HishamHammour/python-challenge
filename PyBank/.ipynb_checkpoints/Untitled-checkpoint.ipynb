{
 "cells": [
  {
   "cell_type": "code",
   "execution_count": 3,
   "metadata": {},
   "outputs": [
    {
     "name": "stdout",
     "output_type": "stream",
     "text": [
      "/Users/hishamhammour/Desktop/UTAUS201901DATA3/python-challenge/PyBank\r\n"
     ]
    }
   ],
   "source": [
    "!pwd"
   ]
  },
  {
   "cell_type": "code",
   "execution_count": 8,
   "metadata": {},
   "outputs": [
    {
     "ename": "KeyError",
     "evalue": "'Profit/Losses'",
     "output_type": "error",
     "traceback": [
      "\u001b[0;31m---------------------------------------------------------------------------\u001b[0m",
      "\u001b[0;31mKeyError\u001b[0m                                  Traceback (most recent call last)",
      "\u001b[0;32m<ipython-input-8-349f8d4756c0>\u001b[0m in \u001b[0;36m<module>\u001b[0;34m\u001b[0m\n\u001b[1;32m     39\u001b[0m \u001b[0;34m\u001b[0m\u001b[0m\n\u001b[1;32m     40\u001b[0m         \u001b[0mtotal_number_of_months\u001b[0m \u001b[0;34m+=\u001b[0m\u001b[0;36m1\u001b[0m \u001b[0;31m# total number of months\u001b[0m\u001b[0;34m\u001b[0m\u001b[0;34m\u001b[0m\u001b[0m\n\u001b[0;32m---> 41\u001b[0;31m         \u001b[0mtotal_PL\u001b[0m \u001b[0;34m=\u001b[0m \u001b[0mtotal_PL\u001b[0m\u001b[0;34m+\u001b[0m \u001b[0mint\u001b[0m\u001b[0;34m(\u001b[0m\u001b[0mrow\u001b[0m\u001b[0;34m[\u001b[0m\u001b[0;34m'Profit/Losses'\u001b[0m\u001b[0;34m]\u001b[0m\u001b[0;34m)\u001b[0m \u001b[0;31m#total Profit and Losses +/-\u001b[0m\u001b[0;34m\u001b[0m\u001b[0;34m\u001b[0m\u001b[0m\n\u001b[0m\u001b[1;32m     42\u001b[0m \u001b[0;34m\u001b[0m\u001b[0m\n\u001b[1;32m     43\u001b[0m \u001b[0;34m\u001b[0m\u001b[0m\n",
      "\u001b[0;31mKeyError\u001b[0m: 'Profit/Losses'"
     ]
    }
   ],
   "source": [
    "# Import the modules\n",
    "import csv\n",
    "\n",
    "# assigne the file path to open \n",
    "#/UTAUS201901DATA3/homework-instructions/03-Python/Instructions/PyBank/Resources/budget_data.csv\n",
    "#/Users/hishamhammour/Desktop/UTAUS201901DATA3/UTAUS201901DATA3/homework-instructions/03-Python/ExtraContent/Instructions/PyBoss/employee_data.csv\n",
    "open_file_path = \"/Users/hishamhammour/Desktop/UTAUS201901DATA3/UTAUS201901DATA3/homework-instructions/03-Python/ExtraContent/Instructions/PyBoss/employee_data.csv\"#\"Resources/budget_data.csv\"\n",
    "\n",
    "output_file = \"Financial_Analysis/budget_data_summery.txt\"\n",
    "\n",
    "\n",
    "\n",
    "''' # Variables and counters ...\n",
    "The total number of month \n",
    "The total amount of profit/loss >> total revenue(+/-)\n",
    "The Average changes in profit/loss\n",
    "The greatest increase profits (date and amount)\n",
    "The greates decrease in losses (date and amount)\n",
    "\n",
    "'''\n",
    "total_number_of_months = 0\n",
    "greatest_profit_increase = [\"\",0]\n",
    "greatest_losses_decrease = [\"\",10000000000000000]\n",
    "month_of_change = []\n",
    "\n",
    " \n",
    "months_total = 0\n",
    "total_PL = 0\n",
    "current_PL_total = 0\n",
    "changes_in_PL = []\n",
    "\n",
    "\n",
    "\n",
    "#load the file into list of dictionaries\n",
    "with open(open_file_path) as budget_data:\n",
    "    csvreader = csv.DictReader(budget_data)\n",
    "\n",
    "    for row in csvreader:\n",
    "\n",
    "        total_number_of_months +=1 # total number of months\n",
    "        total_PL = total_PL+ int(row['Profit/Losses']) #total Profit and Losses +/-\n",
    "\n",
    "\n",
    "        changes_in_PL = int(row['Profit/Losses']) - current_PL_total\n",
    "        current_PL_total =int(row['Profit/Losses'])\n",
    "        PL_change_list = PL_change_list + [changes_in_PL]\n",
    "        month_of_change = month_of_change + [row[\"Date\"]]\n",
    "\n",
    "\n",
    "        # Greatest increase calculation\n",
    "        if (changes_in_PL > greatest_profit_increase[1]):\n",
    "            greatest_profit_increase[0] = row[\"Date\"]\n",
    "            greatest_profit_increase[1] = changes_in_PL\n",
    "\n",
    "        # Greatest decrease \n",
    "        if (changes_in_PL < greatest_losses_decrease[1]):\n",
    "            greatest_losses_decrease[0] = row[\"Date\"]\n",
    "            greatest_losses_decrease[1] = changes_in_PL\n",
    "\n",
    "# Calculating the Average change in PL\n",
    "PL_avg_change = sum(PL_change_list) / len(PL_change_list)\n",
    "\n",
    "\n",
    "#Summery output\n",
    "\n",
    "Summery = (f\"\\nFinancail Analysis\\n\"\n",
    "           f\"\\n==================\\n\"\n",
    "           f\"Total Months: {total_number_of_months} \\n\" \n",
    "           f\"Total: ${total_PL}\\n\"\n",
    "           f\"Average Change: ${PL_avg_change}  \\n\"\n",
    "           f\"Greatest Increase in Profits:{greatest_profit_increase[0]} (${greatest_profit_increase[1]})\\n\"\n",
    "           f\"Greatest Decrease in Losses: {greatest_losses_decrease[0]} (${greatest_losses_decrease[1]})\\n\")\n",
    "\n",
    "print(Summery)\n",
    "\n",
    "#Exporting to text file\n",
    "#with open(output_file, \"w\") as text_file:\n",
    " #   text_file.write(Summery)\n",
    "\n",
    "\n",
    "\n",
    "\n",
    "\n",
    "\n"
   ]
  },
  {
   "cell_type": "code",
   "execution_count": null,
   "metadata": {},
   "outputs": [],
   "source": []
  }
 ],
 "metadata": {
  "kernelspec": {
   "display_name": "Python3 (PythonData)",
   "language": "python",
   "name": "pythondata"
  },
  "language_info": {
   "codemirror_mode": {
    "name": "ipython",
    "version": 3
   },
   "file_extension": ".py",
   "mimetype": "text/x-python",
   "name": "python",
   "nbconvert_exporter": "python",
   "pygments_lexer": "ipython3",
   "version": "3.6.7"
  }
 },
 "nbformat": 4,
 "nbformat_minor": 2
}
